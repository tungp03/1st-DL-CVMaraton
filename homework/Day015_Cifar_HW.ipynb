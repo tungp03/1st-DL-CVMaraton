{
 "cells": [
  {
   "cell_type": "markdown",
   "metadata": {},
   "source": [
    "## 『本次練習內容』\n",
    "#### 運用這幾天所學觀念搭建一個CNN分類器"
   ]
  },
  {
   "cell_type": "markdown",
   "metadata": {},
   "source": [
    "## 『本次練習目的』\n",
    "  #### 熟悉CNN分類器搭建步驟與原理\n",
    "  #### 學員們可以嘗試不同搭法，如使用不同的Maxpooling層，用GlobalAveragePooling取代Flatten等等"
   ]
  },
  {
   "cell_type": "code",
   "execution_count": 1,
   "metadata": {},
   "outputs": [
    {
     "name": "stderr",
     "output_type": "stream",
     "text": [
      "Using TensorFlow backend.\n"
     ]
    }
   ],
   "source": [
    "from keras.models import Sequential\n",
    "from keras.layers import Convolution2D\n",
    "from keras.layers import MaxPooling2D\n",
    "from keras.layers import Flatten\n",
    "from keras.layers import Dense\n",
    "from keras.layers import Dropout\n",
    "from keras.layers import BatchNormalization\n",
    "from keras.datasets import cifar10\n",
    "import numpy as np\n",
    "import tensorflow as tf\n",
    "from sklearn.preprocessing import OneHotEncoder\n"
   ]
  },
  {
   "cell_type": "code",
   "execution_count": 2,
   "metadata": {},
   "outputs": [
    {
     "name": "stdout",
     "output_type": "stream",
     "text": [
      "Downloading data from http://www.cs.toronto.edu/~kriz/cifar-10-python.tar.gz\n",
      "170491904/170498071 [============================>.] - ETA: 0s(50000, 32, 32, 3)\n"
     ]
    }
   ],
   "source": [
    "(x_train, y_train), (x_test, y_test) = cifar10.load_data()\n",
    "\n",
    "print(x_train.shape) #(50000, 32, 32, 3)\n",
    "\n",
    "## Normalize Data\n",
    "def normalize(X_train,X_test):\n",
    "        mean = np.mean(X_train,axis=(0,1,2,3))\n",
    "        std = np.std(X_train, axis=(0, 1, 2, 3))\n",
    "        X_train = (X_train-mean)/(std+1e-7)\n",
    "        X_test = (X_test-mean)/(std+1e-7) \n",
    "        return X_train, X_test,mean,std\n",
    "    \n",
    "    \n",
    "## Normalize Training and Testset    \n",
    "x_train, x_test,mean_train,std_train = normalize(x_train, x_test)"
   ]
  },
  {
   "cell_type": "code",
   "execution_count": 3,
   "metadata": {},
   "outputs": [],
   "source": [
    "## OneHot Label 由(None, 1)-(None, 10)\n",
    "## ex. label=2,變成[0,0,1,0,0,0,0,0,0,0]\n",
    "one_hot=OneHotEncoder()\n",
    "y_train=one_hot.fit_transform(y_train).toarray()\n",
    "y_test=one_hot.transform(y_test).toarray()"
   ]
  },
  {
   "cell_type": "code",
   "execution_count": 4,
   "metadata": {},
   "outputs": [
    {
     "name": "stderr",
     "output_type": "stream",
     "text": [
      "C:\\Users\\user\\Anaconda3\\lib\\site-packages\\ipykernel_launcher.py:18: UserWarning: Update your `Dense` call to the Keras 2 API: `Dense(activation=\"relu\", units=100)`\n",
      "C:\\Users\\user\\Anaconda3\\lib\\site-packages\\ipykernel_launcher.py:21: UserWarning: Update your `Dense` call to the Keras 2 API: `Dense(activation=\"sigmoid\", units=10)`\n"
     ]
    },
    {
     "name": "stdout",
     "output_type": "stream",
     "text": [
      "Epoch 1/100\n",
      "50000/50000 [==============================] - 50s - loss: 1.3817 - acc: 0.5284    \n",
      "Epoch 2/100\n",
      "50000/50000 [==============================] - 44s - loss: 0.8743 - acc: 0.6898    \n",
      "Epoch 3/100\n",
      "50000/50000 [==============================] - 43s - loss: 0.6276 - acc: 0.7722    \n",
      "Epoch 4/100\n",
      "50000/50000 [==============================] - 43s - loss: 0.4520 - acc: 0.8363    \n",
      "Epoch 5/100\n",
      "50000/50000 [==============================] - 43s - loss: 0.3141 - acc: 0.8872    \n",
      "Epoch 6/100\n",
      "50000/50000 [==============================] - 43s - loss: 0.2217 - acc: 0.9199    \n",
      "Epoch 7/100\n",
      "50000/50000 [==============================] - 43s - loss: 0.1615 - acc: 0.9423    \n",
      "Epoch 8/100\n",
      "50000/50000 [==============================] - 43s - loss: 0.1367 - acc: 0.9515    \n",
      "Epoch 9/100\n",
      "50000/50000 [==============================] - 43s - loss: 0.1144 - acc: 0.9593    \n",
      "Epoch 10/100\n",
      "50000/50000 [==============================] - 43s - loss: 0.1137 - acc: 0.9599    \n",
      "Epoch 11/100\n",
      "50000/50000 [==============================] - 43s - loss: 0.0950 - acc: 0.9674    \n",
      "Epoch 12/100\n",
      "50000/50000 [==============================] - 43s - loss: 0.0724 - acc: 0.9751    \n",
      "Epoch 13/100\n",
      "50000/50000 [==============================] - 43s - loss: 0.0697 - acc: 0.9762    \n",
      "Epoch 14/100\n",
      "50000/50000 [==============================] - 43s - loss: 0.0855 - acc: 0.9713    \n",
      "Epoch 15/100\n",
      "50000/50000 [==============================] - 43s - loss: 0.0731 - acc: 0.9753    \n",
      "Epoch 16/100\n",
      "50000/50000 [==============================] - 43s - loss: 0.0550 - acc: 0.9813    \n",
      "Epoch 17/100\n",
      "50000/50000 [==============================] - 43s - loss: 0.0579 - acc: 0.9804    \n",
      "Epoch 18/100\n",
      "50000/50000 [==============================] - 43s - loss: 0.0538 - acc: 0.9814    \n",
      "Epoch 19/100\n",
      "50000/50000 [==============================] - 43s - loss: 0.0573 - acc: 0.9806    \n",
      "Epoch 20/100\n",
      "50000/50000 [==============================] - 43s - loss: 0.0576 - acc: 0.9809    \n",
      "Epoch 21/100\n",
      "50000/50000 [==============================] - 44s - loss: 0.0491 - acc: 0.9835    \n",
      "Epoch 22/100\n",
      "50000/50000 [==============================] - 43s - loss: 0.0401 - acc: 0.9865    \n",
      "Epoch 23/100\n",
      "50000/50000 [==============================] - 43s - loss: 0.0487 - acc: 0.9834    \n",
      "Epoch 24/100\n",
      "50000/50000 [==============================] - 43s - loss: 0.0467 - acc: 0.9840    \n",
      "Epoch 25/100\n",
      "50000/50000 [==============================] - 43s - loss: 0.0489 - acc: 0.9838    \n",
      "Epoch 26/100\n",
      "50000/50000 [==============================] - 43s - loss: 0.0402 - acc: 0.9858    \n",
      "Epoch 27/100\n",
      "50000/50000 [==============================] - 43s - loss: 0.0395 - acc: 0.9869    \n",
      "Epoch 28/100\n",
      "50000/50000 [==============================] - 43s - loss: 0.0334 - acc: 0.9888    \n",
      "Epoch 29/100\n",
      "50000/50000 [==============================] - 43s - loss: 0.0386 - acc: 0.9864    \n",
      "Epoch 30/100\n",
      "50000/50000 [==============================] - 43s - loss: 0.0474 - acc: 0.9844    \n",
      "Epoch 31/100\n",
      "50000/50000 [==============================] - 43s - loss: 0.0342 - acc: 0.9884    \n",
      "Epoch 32/100\n",
      "50000/50000 [==============================] - 43s - loss: 0.0395 - acc: 0.9870    \n",
      "Epoch 33/100\n",
      "50000/50000 [==============================] - 43s - loss: 0.0291 - acc: 0.9902    \n",
      "Epoch 34/100\n",
      "50000/50000 [==============================] - 43s - loss: 0.0342 - acc: 0.9884    \n",
      "Epoch 35/100\n",
      "50000/50000 [==============================] - 43s - loss: 0.0253 - acc: 0.9912    \n",
      "Epoch 36/100\n",
      "50000/50000 [==============================] - 43s - loss: 0.0302 - acc: 0.9899    \n",
      "Epoch 37/100\n",
      "50000/50000 [==============================] - 43s - loss: 0.0462 - acc: 0.9849    \n",
      "Epoch 38/100\n",
      "50000/50000 [==============================] - 43s - loss: 0.0333 - acc: 0.9891    \n",
      "Epoch 39/100\n",
      "50000/50000 [==============================] - 43s - loss: 0.0198 - acc: 0.9932    \n",
      "Epoch 40/100\n",
      "50000/50000 [==============================] - 43s - loss: 0.0254 - acc: 0.9919    \n",
      "Epoch 41/100\n",
      "50000/50000 [==============================] - 43s - loss: 0.0277 - acc: 0.9908    \n",
      "Epoch 42/100\n",
      "50000/50000 [==============================] - 43s - loss: 0.0262 - acc: 0.9916    \n",
      "Epoch 43/100\n",
      "50000/50000 [==============================] - 43s - loss: 0.0327 - acc: 0.9898    \n",
      "Epoch 44/100\n",
      "50000/50000 [==============================] - 43s - loss: 0.0279 - acc: 0.9909    \n",
      "Epoch 45/100\n",
      "50000/50000 [==============================] - 44s - loss: 0.0318 - acc: 0.9896    \n",
      "Epoch 46/100\n",
      "50000/50000 [==============================] - 43s - loss: 0.0225 - acc: 0.9925    \n",
      "Epoch 47/100\n",
      "50000/50000 [==============================] - 43s - loss: 0.0225 - acc: 0.9927    \n",
      "Epoch 48/100\n",
      "50000/50000 [==============================] - 43s - loss: 0.0214 - acc: 0.9932    \n",
      "Epoch 49/100\n",
      "50000/50000 [==============================] - 43s - loss: 0.0305 - acc: 0.9905    \n",
      "Epoch 50/100\n",
      "50000/50000 [==============================] - 43s - loss: 0.0295 - acc: 0.9908    \n",
      "Epoch 51/100\n",
      "50000/50000 [==============================] - 43s - loss: 0.0244 - acc: 0.9922    \n",
      "Epoch 52/100\n",
      "50000/50000 [==============================] - 43s - loss: 0.0211 - acc: 0.9935    \n",
      "Epoch 53/100\n",
      "50000/50000 [==============================] - 43s - loss: 0.0209 - acc: 0.9931    \n",
      "Epoch 54/100\n",
      "50000/50000 [==============================] - 43s - loss: 0.0212 - acc: 0.9926    \n",
      "Epoch 55/100\n",
      "50000/50000 [==============================] - 43s - loss: 0.0224 - acc: 0.9925    \n",
      "Epoch 56/100\n",
      "50000/50000 [==============================] - 43s - loss: 0.0246 - acc: 0.9922    \n",
      "Epoch 57/100\n",
      "50000/50000 [==============================] - 43s - loss: 0.0246 - acc: 0.9923    \n",
      "Epoch 58/100\n",
      "50000/50000 [==============================] - 43s - loss: 0.0159 - acc: 0.9949    \n",
      "Epoch 59/100\n",
      "50000/50000 [==============================] - 43s - loss: 0.0149 - acc: 0.9949    \n",
      "Epoch 60/100\n",
      "50000/50000 [==============================] - 43s - loss: 0.0240 - acc: 0.9927    \n",
      "Epoch 61/100\n",
      "50000/50000 [==============================] - 43s - loss: 0.0259 - acc: 0.9919    \n",
      "Epoch 62/100\n",
      "50000/50000 [==============================] - 43s - loss: 0.0171 - acc: 0.9948    \n",
      "Epoch 63/100\n",
      "50000/50000 [==============================] - 43s - loss: 0.0118 - acc: 0.9963    \n",
      "Epoch 64/100\n",
      "50000/50000 [==============================] - 43s - loss: 0.0187 - acc: 0.9943    \n",
      "Epoch 65/100\n",
      "50000/50000 [==============================] - 43s - loss: 0.0215 - acc: 0.9935    \n",
      "Epoch 66/100\n",
      "50000/50000 [==============================] - 45s - loss: 0.0272 - acc: 0.9913    \n",
      "Epoch 67/100\n",
      "50000/50000 [==============================] - 44s - loss: 0.0187 - acc: 0.9938    \n",
      "Epoch 68/100\n",
      "50000/50000 [==============================] - 44s - loss: 0.0136 - acc: 0.9955    \n",
      "Epoch 69/100\n",
      "50000/50000 [==============================] - 44s - loss: 0.0161 - acc: 0.9950    \n",
      "Epoch 70/100\n",
      "50000/50000 [==============================] - 44s - loss: 0.0182 - acc: 0.9941    \n",
      "Epoch 71/100\n",
      "50000/50000 [==============================] - 44s - loss: 0.0192 - acc: 0.9943    \n",
      "Epoch 72/100\n",
      "50000/50000 [==============================] - 45s - loss: 0.0234 - acc: 0.9930    \n",
      "Epoch 73/100\n",
      "50000/50000 [==============================] - 44s - loss: 0.0167 - acc: 0.9945    \n",
      "Epoch 74/100\n",
      "50000/50000 [==============================] - 45s - loss: 0.0150 - acc: 0.9950    \n",
      "Epoch 75/100\n",
      "50000/50000 [==============================] - 44s - loss: 0.0151 - acc: 0.9951    \n",
      "Epoch 76/100\n",
      "50000/50000 [==============================] - 44s - loss: 0.0178 - acc: 0.9943    \n",
      "Epoch 77/100\n",
      "50000/50000 [==============================] - 45s - loss: 0.0156 - acc: 0.9948    \n",
      "Epoch 78/100\n",
      "50000/50000 [==============================] - 45s - loss: 0.0151 - acc: 0.9953    \n",
      "Epoch 79/100\n",
      "50000/50000 [==============================] - 44s - loss: 0.0170 - acc: 0.9946    \n",
      "Epoch 80/100\n",
      "50000/50000 [==============================] - 44s - loss: 0.0131 - acc: 0.9959    \n",
      "Epoch 81/100\n",
      "50000/50000 [==============================] - 44s - loss: 0.0148 - acc: 0.9954    \n",
      "Epoch 82/100\n",
      "50000/50000 [==============================] - 44s - loss: 0.0231 - acc: 0.9926    \n",
      "Epoch 83/100\n",
      "50000/50000 [==============================] - 44s - loss: 0.0144 - acc: 0.9955    \n",
      "Epoch 84/100\n",
      "50000/50000 [==============================] - 45s - loss: 0.0126 - acc: 0.9956    \n",
      "Epoch 85/100\n"
     ]
    },
    {
     "name": "stdout",
     "output_type": "stream",
     "text": [
      "50000/50000 [==============================] - 44s - loss: 0.0122 - acc: 0.9958    \n",
      "Epoch 86/100\n",
      "50000/50000 [==============================] - 44s - loss: 0.0171 - acc: 0.9948    \n",
      "Epoch 87/100\n",
      "50000/50000 [==============================] - 44s - loss: 0.0221 - acc: 0.9931    \n",
      "Epoch 88/100\n",
      "50000/50000 [==============================] - 44s - loss: 0.0118 - acc: 0.9962    \n",
      "Epoch 89/100\n",
      "50000/50000 [==============================] - 44s - loss: 0.0108 - acc: 0.9964    \n",
      "Epoch 90/100\n",
      "50000/50000 [==============================] - 45s - loss: 0.0111 - acc: 0.9965    \n",
      "Epoch 91/100\n",
      "50000/50000 [==============================] - 44s - loss: 0.0104 - acc: 0.9968    \n",
      "Epoch 92/100\n",
      "50000/50000 [==============================] - 44s - loss: 0.0145 - acc: 0.9953    \n",
      "Epoch 93/100\n",
      "50000/50000 [==============================] - 45s - loss: 0.0182 - acc: 0.9942    \n",
      "Epoch 94/100\n",
      "50000/50000 [==============================] - 44s - loss: 0.0187 - acc: 0.9945    \n",
      "Epoch 95/100\n",
      "50000/50000 [==============================] - 44s - loss: 0.0141 - acc: 0.9955    \n",
      "Epoch 96/100\n",
      "50000/50000 [==============================] - 44s - loss: 0.0108 - acc: 0.9965    \n",
      "Epoch 97/100\n",
      "50000/50000 [==============================] - 45s - loss: 0.0102 - acc: 0.9970    \n",
      "Epoch 98/100\n",
      "50000/50000 [==============================] - 44s - loss: 0.0167 - acc: 0.9944    \n",
      "Epoch 99/100\n",
      "50000/50000 [==============================] - 46s - loss: 0.0127 - acc: 0.9960    \n",
      "Epoch 100/100\n",
      "50000/50000 [==============================] - 45s - loss: 0.0155 - acc: 0.9957    \n"
     ]
    },
    {
     "data": {
      "text/plain": [
       "<keras.callbacks.History at 0x2e88059cf60>"
      ]
     },
     "execution_count": 4,
     "metadata": {},
     "output_type": "execute_result"
    }
   ],
   "source": [
    "classifier=Sequential()\n",
    "\n",
    "#卷積組合\n",
    "classifier.add(Convolution2D(filters=32, kernel_size=(3,3), input_shape=(32,32,3),activation='relu'))#32,3,3,input_shape=(32,32,3),activation='relu''\n",
    "classifier.add(BatchNormalization())\n",
    "\n",
    "'''自己決定MaxPooling2D放在哪裡'''\n",
    "classifier.add(MaxPooling2D(pool_size=(2,2)))\n",
    "\n",
    "#卷積組合\n",
    "classifier.add(Convolution2D(filters=32, kernel_size=(3,3), input_shape=(32,32,3),activation='relu'))\n",
    "classifier.add(BatchNormalization())\n",
    "\n",
    "#flatten\n",
    "classifier.add(Flatten())\n",
    "\n",
    "#FC\n",
    "classifier.add(Dense(output_dim=100,activation='relu')) #output_dim=100,activation=relu\n",
    "\n",
    "#輸出\n",
    "classifier.add(Dense(output_dim=10,activation='sigmoid'))\n",
    "\n",
    "#超過兩個就要選categorical_crossentrophy\n",
    "classifier.compile(optimizer = 'adam', loss = 'categorical_crossentropy', metrics = ['accuracy'])\n",
    "classifier.fit(x_train,y_train,batch_size=100,epochs=100)"
   ]
  },
  {
   "cell_type": "markdown",
   "metadata": {},
   "source": [
    "## 預測新圖片，輸入影像前處理要與訓練時相同\n",
    "#### ((X-mean)/(std+1e-7) ):這裡的mean跟std是訓練集的\n",
    "## 維度如下方示範"
   ]
  },
  {
   "cell_type": "code",
   "execution_count": 5,
   "metadata": {},
   "outputs": [
    {
     "data": {
      "text/plain": [
       "array([[  5.57169187e-07,   8.44768399e-22,   1.26048000e-12,\n",
       "          6.12846174e-09,   4.38677195e-19,   1.25867426e-33,\n",
       "          6.01546767e-23,   6.24464976e-32,   2.77896494e-13,\n",
       "          1.09029537e-30]], dtype=float32)"
      ]
     },
     "execution_count": 5,
     "metadata": {},
     "output_type": "execute_result"
    }
   ],
   "source": [
    "input_example=(np.zeros(shape=(1,32,32,3))-mean_train)/(std_train+1e-7) \n",
    "classifier.predict(input_example)"
   ]
  },
  {
   "cell_type": "code",
   "execution_count": null,
   "metadata": {
    "collapsed": true
   },
   "outputs": [],
   "source": []
  }
 ],
 "metadata": {
  "kernelspec": {
   "display_name": "Python 3",
   "language": "python",
   "name": "python3"
  },
  "language_info": {
   "codemirror_mode": {
    "name": "ipython",
    "version": 3
   },
   "file_extension": ".py",
   "mimetype": "text/x-python",
   "name": "python",
   "nbconvert_exporter": "python",
   "pygments_lexer": "ipython3",
   "version": "3.6.3"
  }
 },
 "nbformat": 4,
 "nbformat_minor": 2
}
