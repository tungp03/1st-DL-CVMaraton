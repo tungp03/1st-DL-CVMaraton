{
 "cells": [
  {
   "cell_type": "markdown",
   "metadata": {},
   "source": [
    "# 作業\n",
    "\n",
    "實作各種不一樣的方式來調整飽和 / 對比 / 明亮\n",
    "\n",
    "1. 改變 color space 來調整飽和度\n",
    "2. 實作直方圖均衡\n",
    "3. alpha/ beta 調整對比 / 明亮"
   ]
  },
  {
   "cell_type": "code",
   "execution_count": 1,
   "metadata": {
    "collapsed": true
   },
   "outputs": [],
   "source": [
    "import cv2\n",
    "import numpy as np\n",
    "\n",
    "img_path = 'C:/Users/user/Desktop/Python/computer_vision/D1/Part01/lena.png'\n",
    "\n",
    "# 以彩色圖片的方式載入\n",
    "img = cv2.imread(img_path, cv2.IMREAD_COLOR)"
   ]
  },
  {
   "cell_type": "markdown",
   "metadata": {},
   "source": [
    "## 改變飽和度\n",
    "\n",
    "- 轉換成 HSV color space, 改變 s channel 的值"
   ]
  },
  {
   "cell_type": "code",
   "execution_count": 3,
   "metadata": {
    "collapsed": true
   },
   "outputs": [],
   "source": [
    "# 為了要改變飽和度，我們先把 color space 轉成 HSV 格式\n",
    "img_hsv = cv2.cvtColor(img, cv2.COLOR_BGR2HSV)\n",
    "change_percentage = 0.2\n",
    "\n",
    "# 針對飽和度的值做改變，超過界線 0~1 的都會 bound\n",
    "# 在 HSV color space 減少飽和度\n",
    "img_hsv_down = img_hsv.astype('float32')\n",
    "img_hsv_down[..., 1] = img_hsv_down[..., 1]/255 - change_percentage\n",
    "img_hsv_down[img_hsv_down[..., 1] < 0] = 0\n",
    "img_hsv_down[..., 1] = img_hsv_down[..., 1]*255\n",
    "img_hsv_down = img_hsv_down.astype('uint8')\n",
    "\n",
    "# 在 HSV color space 增加飽和度\n",
    "img_hsv_up = img_hsv.astype('float32')\n",
    "img_hsv_up[..., 1] = img_hsv_up[..., 1]/255 + change_percentage\n",
    "img_hsv_up[img_hsv_up[..., 1] < 0] = 0\n",
    "img_hsv_up[..., 1] = img_hsv_up[..., 1]*255\n",
    "img_hsv_up = img_hsv_up.astype('uint8')\n",
    "\n",
    "# 轉換 color space 回 BGR\n",
    "img_hsv_down = cv2.cvtColor(img_hsv_down, cv2.COLOR_HLS2BGR)\n",
    "img_hsv_up = cv2.cvtColor(img_hsv_up, cv2.COLOR_HLS2BGR)\n",
    "\n",
    "# 組合圖片 + 顯示圖片\n",
    "img_hsv_change = np.hstack((img, img_hsv_down, img_hsv_up))\n",
    "while True:\n",
    "    cv2.imshow('change saturation', img_hsv_change)\n",
    "    \n",
    "    k = cv2.waitKey(0)\n",
    "    if k == 27:\n",
    "        cv2.destroyAllWindows()\n",
    "        break"
   ]
  },
  {
   "cell_type": "markdown",
   "metadata": {},
   "source": [
    "## 直方圖均衡\n",
    "\n",
    "1. case 1: 把彩圖拆開對每個 channel 個別做直方圖均衡再組合起來\n",
    "2. case 2: 轉換 color space 到 HSV 之後對其中一個 channel 做直方圖均衡"
   ]
  },
  {
   "cell_type": "code",
   "execution_count": 5,
   "metadata": {},
   "outputs": [
    {
     "name": "stdout",
     "output_type": "stream",
     "text": [
      "[array([[194, 194, 208, ..., 185, 153, 100],\n",
      "       [194, 194, 208, ..., 185, 153, 100],\n",
      "       [194, 194, 208, ..., 185, 153, 100],\n",
      "       ..., \n",
      "       [ 13,  13,   8, ...,  82,  59,  68],\n",
      "       [  7,   7,  18, ...,  68,  74,  74],\n",
      "       [  7,   7,  18, ...,  68,  74,  74]], dtype=uint8), array([[196, 196, 196, ..., 211, 182, 131],\n",
      "       [196, 196, 196, ..., 211, 182, 131],\n",
      "       [196, 196, 196, ..., 211, 182, 131],\n",
      "       ..., \n",
      "       [ 11,  11,  28, ...,  88,  80,  69],\n",
      "       [ 19,  19,  36, ...,  83,  85,  90],\n",
      "       [ 19,  19,  36, ...,  83,  85,  90]], dtype=uint8), array([[216, 216, 205, ..., 226, 197, 135],\n",
      "       [216, 216, 205, ..., 226, 197, 135],\n",
      "       [216, 216, 205, ..., 226, 197, 135],\n",
      "       ..., \n",
      "       [  8,   8,  19, ...,  90,  89,  97],\n",
      "       [  6,   6,  25, ..., 101, 103, 109],\n",
      "       [  6,   6,  25, ..., 101, 103, 109]], dtype=uint8)]\n"
     ]
    }
   ],
   "source": [
    "# 將每個canne拆在同一個矩陣\n",
    "equalHist_by_channel = [cv2.equalizeHist(channel) for idx, channel in enumerate(cv2.split(img))]\n",
    "print(equalHist_by_channel)"
   ]
  },
  {
   "cell_type": "code",
   "execution_count": 6,
   "metadata": {
    "collapsed": true
   },
   "outputs": [],
   "source": [
    "# case 1\n",
    "# 每個 channel 個別做直方圖均衡\n",
    "equalHist_by_channel = [cv2.equalizeHist(channel) for idx, channel in enumerate(cv2.split(img))]\n",
    "\n",
    "# 組合經過直方圖均衡的每個 channel\n",
    "img_bgr_equal = cv2.merge(equalHist_by_channel)\n",
    "\n",
    "# case 2 - 轉換 color space 後只對其中一個 channel 做直方圖均衡\n",
    "img_hsv_equal = cv2.cvtColor(cv2.merge([img[:,:,0], img[:,:,1], cv2.equalizeHist(img[:,:,2])]), cv2.COLOR_BGR2HSV)\n",
    "\n",
    "# 組合圖片 + 顯示圖片\n",
    "img_bgr_equalHist = np.hstack((img, img_bgr_equal, img_hsv_equal))\n",
    "while True:\n",
    "    # 比較 (原圖, BGR color space 對每個 channel 做直方圖均衡, HSV color space 對明度做直方圖均衡)\n",
    "    cv2.imshow('bgr equal histogram', img_bgr_equalHist)\n",
    "    k = cv2.waitKey(0)\n",
    "    if k == 27:\n",
    "        cv2.destroyAllWindows()\n",
    "        break"
   ]
  },
  {
   "cell_type": "markdown",
   "metadata": {},
   "source": [
    "## 調整對比 / 明亮"
   ]
  },
  {
   "cell_type": "code",
   "execution_count": 7,
   "metadata": {
    "collapsed": true
   },
   "outputs": [],
   "source": [
    "# alpha: 控制對比度 (1.0~3.0)\n",
    "# beta: 控制明亮度 (0~255)\n",
    "add_contrast = cv2.convertScaleAbs(img, alpha=2.0, beta=0)\n",
    "add_lighness = cv2.convertScaleAbs(img, alpha=1.0, beta=50)\n",
    "\n",
    "# 組合圖片 + 顯示圖片\n",
    "img_contrast_light = np.hstack((img, add_contrast, add_lighness))\n",
    "while True:\n",
    "    # 比較不同程度的對比 / 明亮\n",
    "    cv2.imshow('adjust contrast and brighness', img_contrast_light)\n",
    "    k = cv2.waitKey(0)\n",
    "    if k == 27:\n",
    "        cv2.destroyAllWindows()\n",
    "        break"
   ]
  },
  {
   "cell_type": "code",
   "execution_count": null,
   "metadata": {
    "collapsed": true
   },
   "outputs": [],
   "source": []
  }
 ],
 "metadata": {
  "kernelspec": {
   "display_name": "Python 3",
   "language": "python",
   "name": "python3"
  },
  "language_info": {
   "codemirror_mode": {
    "name": "ipython",
    "version": 3
   },
   "file_extension": ".py",
   "mimetype": "text/x-python",
   "name": "python",
   "nbconvert_exporter": "python",
   "pygments_lexer": "ipython3",
   "version": "3.6.3"
  }
 },
 "nbformat": 4,
 "nbformat_minor": 2
}
